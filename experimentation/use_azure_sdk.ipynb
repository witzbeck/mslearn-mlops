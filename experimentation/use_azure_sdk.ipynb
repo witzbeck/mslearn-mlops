{
 "cells": [
  {
   "cell_type": "code",
   "execution_count": 1,
   "metadata": {},
   "outputs": [],
   "source": [
    "from json import load, loads\n",
    "from pathlib import Path\n",
    "\n",
    "from azure.ai.ml import _ml_client\n",
    "from azure.identity import DefaultAzureCredential\n",
    "\n",
    "from azure.ai.ml.entities import Environment, BuildContext\n",
    "\n",
    "from alexlib.utils.file import pathsearch, ConfigFile\n",
    "import os"
   ]
  },
  {
   "cell_type": "code",
   "execution_count": 2,
   "metadata": {},
   "outputs": [],
   "source": [
    "envpath = pathsearch(\"basic-env-ml.yml\")"
   ]
  },
  {
   "cell_type": "code",
   "execution_count": 3,
   "metadata": {},
   "outputs": [
    {
     "data": {
      "text/plain": [
       "True"
      ]
     },
     "execution_count": 3,
     "metadata": {},
     "output_type": "execute_result"
    }
   ],
   "source": [
    "config = ConfigFile.from_path(\"../config.json\")\n",
    "config.exists"
   ]
  },
  {
   "cell_type": "code",
   "execution_count": 4,
   "metadata": {},
   "outputs": [
    {
     "data": {
      "text/plain": [
       "environ{'COMMAND_MODE': 'unix2003',\n",
       "        'DISPLAY': '/private/tmp/com.apple.launchd.cDnFjuo8zN/org.xquartz:0',\n",
       "        'HOME': '/Users/Fr333y3d3a',\n",
       "        'LOGNAME': 'Fr333y3d3a',\n",
       "        'MallocNanoZone': '0',\n",
       "        'OLDPWD': '/',\n",
       "        'ORIGINAL_XDG_CURRENT_DESKTOP': 'undefined',\n",
       "        'PATH': '/Users/Fr333y3d3a/repos/alexlib/.venv/bin:/Library/Frameworks/Python.framework/Versions/3.11/bin:/Library/Frameworks/Python.framework/Versions/3.10/bin:/usr/local/bin:/usr/bin:/bin:/usr/sbin:/sbin:/Library/TeX/texbin:/opt/X11/bin',\n",
       "        'PWD': '/',\n",
       "        'SHELL': '/bin/zsh',\n",
       "        'SHLVL': '1',\n",
       "        'SSH_AUTH_SOCK': '/private/tmp/com.apple.launchd.pWtm9FGzJJ/Listeners',\n",
       "        'TMPDIR': '/var/folders/cr/hl98_t_j5rnbs50cmd6yhd4r0000gn/T/',\n",
       "        'USER': 'Fr333y3d3a',\n",
       "        'VSCODE_AMD_ENTRYPOINT': 'vs/workbench/api/node/extensionHostProcess',\n",
       "        'VSCODE_CODE_CACHE_PATH': '/Users/Fr333y3d3a/Library/Application Support/Code/CachedData/6c3e3dba23e8fadc360aed75ce363ba185c49794',\n",
       "        'VSCODE_CRASH_REPORTER_PROCESS_TYPE': 'extensionHost',\n",
       "        'VSCODE_CWD': '/',\n",
       "        'VSCODE_HANDLES_UNCAUGHT_ERRORS': 'true',\n",
       "        'VSCODE_IPC_HOOK': '/Users/Fr333y3d3a/Library/Application Support/Code/1.81-main.sock',\n",
       "        'VSCODE_NLS_CONFIG': '{\"locale\":\"en-us\",\"osLocale\":\"en-us\",\"availableLanguages\":{},\"_languagePackSupport\":true}',\n",
       "        'VSCODE_PID': '77456',\n",
       "        'XPC_FLAGS': '0x0',\n",
       "        'XPC_SERVICE_NAME': '0',\n",
       "        '_': '/Users/Fr333y3d3a/repos/alexlib/.venv/bin/python',\n",
       "        '__CFBundleIdentifier': 'com.microsoft.VSCode',\n",
       "        '__CF_USER_TEXT_ENCODING': '0x1F5:0x0:0x0',\n",
       "        'ELECTRON_RUN_AS_NODE': '1',\n",
       "        'VSCODE_L10N_BUNDLE_LOCATION': '',\n",
       "        'PYTHONUNBUFFERED': '1',\n",
       "        'PYTHONIOENCODING': 'utf-8',\n",
       "        'VIRTUAL_ENV': '/Users/Fr333y3d3a/repos/alexlib/.venv',\n",
       "        'PS1': '(alexlib-py3.11) ',\n",
       "        'VIRTUAL_ENV_PROMPT': 'alexlib-py3.11',\n",
       "        'LC_CTYPE': 'UTF-8',\n",
       "        'PYTHONNOUSERSITE': 'True',\n",
       "        'PYDEVD_IPYTHON_COMPATIBLE_DEBUGGING': '1',\n",
       "        'PYDEVD_USE_FRAME_EVAL': 'NO',\n",
       "        'TERM': 'xterm-color',\n",
       "        'CLICOLOR': '1',\n",
       "        'FORCE_COLOR': '1',\n",
       "        'CLICOLOR_FORCE': '1',\n",
       "        'PAGER': 'cat',\n",
       "        'GIT_PAGER': 'cat',\n",
       "        'MPLBACKEND': 'module://matplotlib_inline.backend_inline',\n",
       "        'subscription_id': '801a6e9a-f9bd-4cdb-bdfc-13f0d589c0be',\n",
       "        'resource_group': 'witzbeck-rg',\n",
       "        'workspace_name': 'learning',\n",
       "        'compute_name': 'testdev-vm'}"
      ]
     },
     "execution_count": 4,
     "metadata": {},
     "output_type": "execute_result"
    }
   ],
   "source": [
    "config.envdict"
   ]
  },
  {
   "cell_type": "code",
   "execution_count": 15,
   "metadata": {},
   "outputs": [],
   "source": [
    "env = Environment(\n",
    "    name=envpath.name,\n",
    "    base_path=envpath\n",
    "    )\n",
    "\"create property generator\""
   ]
  },
  {
   "cell_type": "code",
   "execution_count": 16,
   "metadata": {},
   "outputs": [
    {
     "ename": "Exception",
     "evalue": "\n\u001b[37m\n\u001b[30m\n1) At least one required parameter is missing\u001b[39m\u001b[39m\n\nDetails: \n\n\u001b[31m(x) Docker image or Dockerfile is required for environments\u001b[39m\n\nResolutions: \n1) Ensure all parameters required by the Environment schema are specified.\nIf using the CLI, you can also check the full log in debug mode for more details by adding --debug to the end of your command\n\nAdditional Resources: The easiest way to author a yaml specification file is using IntelliSense and auto-completion Azure ML VS code extension provides: \u001b[36mhttps://code.visualstudio.com/docs/datascience/azure-machine-learning.\u001b[39m To set up VS Code, visit \u001b[36mhttps://docs.microsoft.com/azure/machine-learning/how-to-setup-vs-code\u001b[39m\n",
     "output_type": "error",
     "traceback": [
      "\u001b[0;31m---------------------------------------------------------------------------\u001b[0m",
      "\u001b[0;31mException\u001b[0m                                 Traceback (most recent call last)",
      "Cell \u001b[0;32mIn[16], line 1\u001b[0m\n\u001b[0;32m----> 1\u001b[0m env\u001b[39m.\u001b[39;49mvalidate()\n",
      "File \u001b[0;32m~/repos/alexlib/.venv/lib/python3.11/site-packages/azure/ai/ml/entities/_assets/environment.py:298\u001b[0m, in \u001b[0;36mEnvironment.validate\u001b[0;34m(self)\u001b[0m\n\u001b[1;32m    290\u001b[0m     msg \u001b[39m=\u001b[39m \u001b[39m\"\u001b[39m\u001b[39mDocker image or Dockerfile is required for environments\u001b[39m\u001b[39m\"\u001b[39m\n\u001b[1;32m    291\u001b[0m     err \u001b[39m=\u001b[39m ValidationException(\n\u001b[1;32m    292\u001b[0m         message\u001b[39m=\u001b[39mmsg,\n\u001b[1;32m    293\u001b[0m         target\u001b[39m=\u001b[39mErrorTarget\u001b[39m.\u001b[39mENVIRONMENT,\n\u001b[0;32m   (...)\u001b[0m\n\u001b[1;32m    296\u001b[0m         error_type\u001b[39m=\u001b[39mValidationErrorType\u001b[39m.\u001b[39mMISSING_FIELD,\n\u001b[1;32m    297\u001b[0m     )\n\u001b[0;32m--> 298\u001b[0m     log_and_raise_error(err)\n\u001b[1;32m    299\u001b[0m \u001b[39mif\u001b[39;00m \u001b[39mself\u001b[39m\u001b[39m.\u001b[39mimage \u001b[39mand\u001b[39;00m \u001b[39mself\u001b[39m\u001b[39m.\u001b[39mbuild:\n\u001b[1;32m    300\u001b[0m     msg \u001b[39m=\u001b[39m \u001b[39m\"\u001b[39m\u001b[39mDocker image or Dockerfile should be provided not both\u001b[39m\u001b[39m\"\u001b[39m\n",
      "File \u001b[0;32m~/repos/alexlib/.venv/lib/python3.11/site-packages/azure/ai/ml/_exception_helper.py:295\u001b[0m, in \u001b[0;36mlog_and_raise_error\u001b[0;34m(error, debug, yaml_operation)\u001b[0m\n\u001b[1;32m    292\u001b[0m \u001b[39melse\u001b[39;00m:\n\u001b[1;32m    293\u001b[0m     \u001b[39mraise\u001b[39;00m error\n\u001b[0;32m--> 295\u001b[0m \u001b[39mraise\u001b[39;00m \u001b[39mException\u001b[39;00m(formatted_error)\n",
      "\u001b[0;31mException\u001b[0m: \n\u001b[37m\n\u001b[30m\n1) At least one required parameter is missing\u001b[39m\u001b[39m\n\nDetails: \n\n\u001b[31m(x) Docker image or Dockerfile is required for environments\u001b[39m\n\nResolutions: \n1) Ensure all parameters required by the Environment schema are specified.\nIf using the CLI, you can also check the full log in debug mode for more details by adding --debug to the end of your command\n\nAdditional Resources: The easiest way to author a yaml specification file is using IntelliSense and auto-completion Azure ML VS code extension provides: \u001b[36mhttps://code.visualstudio.com/docs/datascience/azure-machine-learning.\u001b[39m To set up VS Code, visit \u001b[36mhttps://docs.microsoft.com/azure/machine-learning/how-to-setup-vs-code\u001b[39m\n"
     ]
    }
   ],
   "source": [
    "env.validate()"
   ]
  },
  {
   "cell_type": "code",
   "execution_count": null,
   "metadata": {},
   "outputs": [],
   "source": []
  }
 ],
 "metadata": {
  "kernelspec": {
   "display_name": ".venv",
   "language": "python",
   "name": "python3"
  },
  "language_info": {
   "codemirror_mode": {
    "name": "ipython",
    "version": 3
   },
   "file_extension": ".py",
   "mimetype": "text/x-python",
   "name": "python",
   "nbconvert_exporter": "python",
   "pygments_lexer": "ipython3",
   "version": "3.11.4"
  },
  "orig_nbformat": 4
 },
 "nbformat": 4,
 "nbformat_minor": 2
}
