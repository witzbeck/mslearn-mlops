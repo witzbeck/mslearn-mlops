{
 "cells": [
  {
   "cell_type": "code",
   "execution_count": 1,
   "metadata": {},
   "outputs": [],
   "source": [
    "from json import load, loads\n",
    "from pathlib import Path\n",
    "\n",
    "from azure.ai.ml import _ml_client\n",
    "from azure.identity import DefaultAzureCredential\n",
    "\n",
    "from azure.ai.ml.entities import Environment, BuildContext\n",
    "\n",
    "from alexlib.utils.file import pathsearch, ConfigFile\n",
    "import os"
   ]
  },
  {
   "cell_type": "code",
   "execution_count": 2,
   "metadata": {},
   "outputs": [
    {
     "data": {
      "text/plain": [
       "True"
      ]
     },
     "execution_count": 2,
     "metadata": {},
     "output_type": "execute_result"
    }
   ],
   "source": [
    "config = ConfigFile.from_path(\"../config.json\")\n",
    "config.exists"
   ]
  },
  {
   "cell_type": "code",
   "execution_count": 3,
   "metadata": {},
   "outputs": [
    {
     "name": "stdout",
     "output_type": "stream",
     "text": [
      "environ({'COMMAND_MODE': 'unix2003', 'DISPLAY': '/private/tmp/com.apple.launchd.cDnFjuo8zN/org.xquartz:0', 'HOME': '/Users/Fr333y3d3a', 'LOGNAME': 'Fr333y3d3a', 'MallocNanoZone': '0', 'OLDPWD': '/', 'ORIGINAL_XDG_CURRENT_DESKTOP': 'undefined', 'PATH': '/Users/Fr333y3d3a/repos/alexlib/.venv/bin:/Library/Frameworks/Python.framework/Versions/3.11/bin:/Library/Frameworks/Python.framework/Versions/3.10/bin:/usr/local/bin:/usr/bin:/bin:/usr/sbin:/sbin:/Library/TeX/texbin:/opt/X11/bin', 'PWD': '/', 'SHELL': '/bin/zsh', 'SHLVL': '1', 'SSH_AUTH_SOCK': '/private/tmp/com.apple.launchd.pWtm9FGzJJ/Listeners', 'TMPDIR': '/var/folders/cr/hl98_t_j5rnbs50cmd6yhd4r0000gn/T/', 'USER': 'Fr333y3d3a', 'VSCODE_AMD_ENTRYPOINT': 'vs/workbench/api/node/extensionHostProcess', 'VSCODE_CODE_CACHE_PATH': '/Users/Fr333y3d3a/Library/Application Support/Code/CachedData/6c3e3dba23e8fadc360aed75ce363ba185c49794', 'VSCODE_CRASH_REPORTER_PROCESS_TYPE': 'extensionHost', 'VSCODE_CWD': '/', 'VSCODE_HANDLES_UNCAUGHT_ERRORS': 'true', 'VSCODE_IPC_HOOK': '/Users/Fr333y3d3a/Library/Application Support/Code/1.81-main.sock', 'VSCODE_NLS_CONFIG': '{\"locale\":\"en-us\",\"osLocale\":\"en-us\",\"availableLanguages\":{},\"_languagePackSupport\":true}', 'VSCODE_PID': '77456', 'XPC_FLAGS': '0x0', 'XPC_SERVICE_NAME': '0', '_': '/Users/Fr333y3d3a/repos/alexlib/.venv/bin/python', '__CFBundleIdentifier': 'com.microsoft.VSCode', '__CF_USER_TEXT_ENCODING': '0x1F5:0x0:0x0', 'ELECTRON_RUN_AS_NODE': '1', 'VSCODE_L10N_BUNDLE_LOCATION': '', 'PYTHONUNBUFFERED': '1', 'PYTHONIOENCODING': 'utf-8', 'VIRTUAL_ENV': '/Users/Fr333y3d3a/repos/alexlib/.venv', 'PS1': '(alexlib-py3.11) ', 'VIRTUAL_ENV_PROMPT': 'alexlib-py3.11', 'LC_CTYPE': 'UTF-8', 'PYTHONNOUSERSITE': 'True', 'PYDEVD_IPYTHON_COMPATIBLE_DEBUGGING': '1', 'PYDEVD_USE_FRAME_EVAL': 'NO', 'TERM': 'xterm-color', 'CLICOLOR': '1', 'FORCE_COLOR': '1', 'CLICOLOR_FORCE': '1', 'PAGER': 'cat', 'GIT_PAGER': 'cat', 'MPLBACKEND': 'module://matplotlib_inline.backend_inline', 'subscription_id': '801a6e9a-f9bd-4cdb-bdfc-13f0d589c0be', 'resource_group': 'witzbeck-rg', 'workspace_name': 'learning', 'compute_name': 'testdev-vm'})\n"
     ]
    },
    {
     "data": {
      "text/plain": [
       "'801a6e9a-f9bd-4cdb-bdfc-13f0d589c0be'"
      ]
     },
     "execution_count": 3,
     "metadata": {},
     "output_type": "execute_result"
    }
   ],
   "source": [
    "print(config.envdict)\n",
    "os.environ[\"subscription_id\"]"
   ]
  },
  {
   "cell_type": "code",
   "execution_count": null,
   "metadata": {},
   "outputs": [],
   "source": []
  }
 ],
 "metadata": {
  "kernelspec": {
   "display_name": ".venv",
   "language": "python",
   "name": "python3"
  },
  "language_info": {
   "codemirror_mode": {
    "name": "ipython",
    "version": 3
   },
   "file_extension": ".py",
   "mimetype": "text/x-python",
   "name": "python",
   "nbconvert_exporter": "python",
   "pygments_lexer": "ipython3",
   "version": "3.11.4"
  },
  "orig_nbformat": 4
 },
 "nbformat": 4,
 "nbformat_minor": 2
}
